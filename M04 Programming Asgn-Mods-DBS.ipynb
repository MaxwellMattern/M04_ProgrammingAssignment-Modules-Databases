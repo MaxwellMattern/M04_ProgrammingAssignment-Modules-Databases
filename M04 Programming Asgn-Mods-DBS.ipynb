{
 "cells": [
  {
   "cell_type": "code",
   "execution_count": 11,
   "id": "da8b04e2",
   "metadata": {
    "scrolled": true
   },
   "outputs": [
    {
     "name": "stdout",
     "output_type": "stream",
     "text": [
      "Open 9-5 daily\n",
      "None\n",
      "Open 9-5 daily\n",
      "None\n"
     ]
    }
   ],
   "source": [
    "# Max Mattern\n",
    "# SDEV220 Fall 2022\n",
    "# M04 Programming Assignment- Modules and Dataabases\n",
    "# 11-21-22\n",
    "# Program Description:\n",
    "\n",
    "# 11.1: Create a file called zoo.py. In it, define a function called hours() that prints the string\n",
    "# 'Open 9-5 daily'. Then, use the interactive interpreter to import the zoo module and call its hours() function.\n",
    "import zoo\n",
    "hours = zoo.hours()\n",
    "print(hours)\n",
    "\n",
    "# 11.2: In the interactive interpreter, import the zoo module as menagerie and call its hours() function.\n",
    "import zoo as menagerie\n",
    "hours = menagerie.hours()\n",
    "print(hours)\n",
    "\n",
    "\n",
    "# 16.8: Use the sqlalchemy module to connect to the sqlite3 database books.db that you just made in exercise 16.4.\n",
    "# As in 16.6, select and print the title column from the book table in alphabetical order."
   ]
  },
  {
   "cell_type": "code",
   "execution_count": null,
   "id": "12d671cf",
   "metadata": {},
   "outputs": [],
   "source": []
  }
 ],
 "metadata": {
  "kernelspec": {
   "display_name": "Python 3 (ipykernel)",
   "language": "python",
   "name": "python3"
  },
  "language_info": {
   "codemirror_mode": {
    "name": "ipython",
    "version": 3
   },
   "file_extension": ".py",
   "mimetype": "text/x-python",
   "name": "python",
   "nbconvert_exporter": "python",
   "pygments_lexer": "ipython3",
   "version": "3.9.13"
  }
 },
 "nbformat": 4,
 "nbformat_minor": 5
}
